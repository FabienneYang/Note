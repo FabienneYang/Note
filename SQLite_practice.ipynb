{
 "cells": [
  {
   "cell_type": "code",
   "execution_count": 9,
   "metadata": {},
   "outputs": [
    {
     "name": "stdout",
     "output_type": "stream",
     "text": [
      "DELL Inspiron 5593 15吋筆電(i7-1065G7/512G/白金銀) $31,900\n",
      "DELL XPS 9300 13吋筆電 (I7-1065G7/16G/1TB/Win10/銀) $69,900\n",
      "DELL Inspiron 7590 15吋筆電(i5-9300H/512G/GTX1650) $42,999\n",
      "DELL Inspiron 7490 14吋筆電( i7-10510U/1T/冷光粉) $48,900\n",
      "DELL Inspiron 5490 14吋筆電(i3-10110U/256G/白金銀) $19,999\n",
      "DELL Inspiron 7590 15吋筆電(i7-9750H/512G/GTX1650) $48,900\n",
      "DELL Inspiron 5490 14吋筆電(i7-10510U/1TSSD/冷光紫) $38,900\n",
      "DELL Inspiron5391 13吋筆電(i5-10210U/256G/MX250冷光紫) $28,999\n",
      "DELL Inspiron 7490 14吋筆電( i7-10510U/1T/白金銀) $48,900\n",
      "DELL Inspiron 5490 14吋筆電(i5-10210U/512G/冷光紫) $27,999\n",
      "DELL Inspiron 7590 15吋筆電(i5-9300H/256G/GTX1050) $39,900\n",
      "DELL Inspiron 5593 15吋筆電(i3-1005G1/256G/午夜藍) $20,900\n",
      "DELL Inspiron 5490 14吋筆電(i7-10510U/1TSSD/白金銀) $38,900\n",
      "DELL Inspiron 5391 13吋筆電(i7-10510U/512G/冷光紫) $33,999\n",
      "DELL Inspiron 7490 14吋筆電(i5-10210U/512G/白金銀) $39,900\n"
     ]
    }
   ],
   "source": [
    "import requests\n",
    "from bs4 import BeautifulSoup\n",
    "# 引入 sqlite 套件\n",
    "import sqlite3\n",
    "\n",
    "#定義網址\n",
    "url = 'https://tw.buy.yahoo.com/search/product?flc=%E7%AD%86%E8%A8%98%E5%9E%8B%E9%9B%BB%E8%85%A6&p=dell'\n",
    "\n",
    "#定義資料庫位置\n",
    "conn = sqlite3.connect('~/yahoo.db') # ~代表路徑\n",
    "c = conn.cursor()\n",
    "\n",
    "#向網址要回網頁原始碼，並透過 BeautifulSoup 解析\n",
    "res = requests.get(url)\n",
    "soup = BeautifulSoup(res.text, 'html.parser')\n",
    "\n",
    "\n",
    "for dell in soup.find_all(class_='BaseGridItem__grid___2wuJ7 BaseGridItem__multipleImage___37M7b'):\n",
    "    title = dell.select('.BaseGridItem__title___2HWui')[0].text\n",
    "    price = dell.select('.BaseGridItem__price___31jkj')[0].text\n",
    "    c.execute('insert into yahoo_price(title, price) values (?, ?)', [title, price])\n",
    "    conn.commit()\n",
    "        \n",
    "    print(title + ' ' + price)"
   ]
  },
  {
   "cell_type": "code",
   "execution_count": null,
   "metadata": {},
   "outputs": [],
   "source": []
  }
 ],
 "metadata": {
  "kernelspec": {
   "display_name": "Python 3",
   "language": "python",
   "name": "python3"
  },
  "language_info": {
   "codemirror_mode": {
    "name": "ipython",
    "version": 3
   },
   "file_extension": ".py",
   "mimetype": "text/x-python",
   "name": "python",
   "nbconvert_exporter": "python",
   "pygments_lexer": "ipython3",
   "version": "3.7.0"
  }
 },
 "nbformat": 4,
 "nbformat_minor": 2
}
